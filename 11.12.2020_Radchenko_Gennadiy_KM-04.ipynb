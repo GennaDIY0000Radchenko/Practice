{
  "nbformat": 4,
  "nbformat_minor": 0,
  "metadata": {
    "colab": {
      "name": "Practice_12_13_KM_01_.ipynb",
      "provenance": [],
      "collapsed_sections": []
    },
    "kernelspec": {
      "name": "python3",
      "display_name": "Python 3.8.6 64-bit",
      "metadata": {
        "interpreter": {
          "hash": "a2cc6a8d237a313678395e690212fa38d1294c1ae9facd4ac61666eabe9e2857"
        }
      }
    }
  },
  "cells": [
    {
      "cell_type": "markdown",
      "metadata": {
        "id": "FMqboNwO4rVs"
      },
      "source": [
        "# **Курс \"Програмування на мові Python\"**\n",
        "\n",
        "##### Викладачі:\n",
        "##### Борисенко Павло Борисович\n",
        "##### Щьоголєв Максим Олегович\n"
      ]
    },
    {
      "cell_type": "markdown",
      "metadata": {
        "id": "A2T6MigL5Z06"
      },
      "source": [
        "## **Практичні зайняття №12-13**\n",
        "\n",
        "### Тема: \"Рекурсивні функції\""
      ]
    },
    {
      "cell_type": "markdown",
      "metadata": {
        "id": "cfCdgK2zXm7e"
      },
      "source": [
        "### **Завдання 1 (1 бал)**\n",
        "\n",
        "Реалізуйте функцію `cons(head, tail)`, що конструює новий список із довільного елемента `head` й іншого списку `tail`.\n",
        "\n",
        "Сама по собі функція `cons` не є рекурсивною, однак вона породжує рекурсивну структуру даних, представлену нижче. "
      ]
    },
    {
      "cell_type": "code",
      "metadata": {
        "id": "Bku8v9CjE_Qc"
      },
      "source": [
        "# ВАШ КОД ТУТ\n",
        "def cons(head, tail=[]):\n",
        "    result = [head]\n",
        "    for i in tail:\n",
        "        result.append(i)\n",
        "    return result\n",
        "# ПЕРЕВІРКА\n",
        "\n",
        "l = cons(3,cons(2,cons(1, [])))\n",
        "\n",
        "print(f'Result: {l}')\n",
        "\n",
        "assert l == [3, 2, 1], 'Failed test 1'\n",
        "assert cons(1) == [1], 'Failed test 2'\n",
        "print('All tests good!')"
      ],
      "execution_count": 15,
      "outputs": [
        {
          "output_type": "stream",
          "name": "stdout",
          "text": [
            "Result: [3, 2, 1]\nAll tests good!\n"
          ]
        }
      ]
    },
    {
      "cell_type": "markdown",
      "metadata": {
        "id": "474jvMyn38ju"
      },
      "source": [
        "Таким чином, легко уявити, що деякі традиційні структури даних цілком природньо обходяться за допомогою рекурсії.\n",
        "\n",
        "Напишіть тепер рекурсивну функцію `sum(lst)`, яка сумуватиме список `lst`."
      ]
    },
    {
      "cell_type": "code",
      "metadata": {
        "id": "9x4n4ct53_Y6"
      },
      "source": [
        "# ВАШ КОД ТУT\n",
        "def sum(lst, r=0, a=0):\n",
        "    r += lst[a]\n",
        "    a += 1\n",
        "    if len(l) != a:\n",
        "        return sum(lst, r, a)\n",
        "    else:\n",
        "        return r\n",
        "# ПЕРЕВІРКА\n",
        "\n",
        "print(sum(l))\n",
        "assert sum(l) == 6, 'Failed on sum'\n",
        "print('All tests good!')"
      ],
      "execution_count": 42,
      "outputs": [
        {
          "output_type": "stream",
          "name": "stdout",
          "text": [
            "6\n6\nAll tests good!\n"
          ]
        }
      ]
    },
    {
      "cell_type": "markdown",
      "metadata": {
        "id": "oqXwIz3iuPRe"
      },
      "source": [
        "### **Завдання 2 (1 бал)**\n",
        "\n",
        "Реалізуйте рекурсивну функцію `rrange(begin, end, step)`, що повертає список елементів починаючи з `begin` і закінчуючи `end` невключно, із кроком `step`. Зверніть увагу, що крок може бути від'ємним. Якщо `begin` більше `end` при додатньому кроці (чи менше при від'ємному), або якщо крок нульовий, поверніть порожній список.\n",
        "\n",
        "Зверніть увагу на тести, приведені нижче."
      ]
    },
    {
      "cell_type": "code",
      "metadata": {
        "id": "yiRr2CqMWxLA"
      },
      "source": [
        "# ВАШ КОД ТУТ\n",
        "def rrange(begin, end, step=1, k=None):\n",
        "    if k is None:\n",
        "        k = []\n",
        "    if (begin < end and step > 0) or (begin > end and step < 0):\n",
        "        k.append(begin)\n",
        "        begin += step\n",
        "        rrange(begin, end, step, k)\n",
        "    elif ((begin > end and step > 0) or/\n",
        "         (begin < end and step < 0) or step == 0) and len(k) == 0:\n",
        "        k = []\n",
        "    return k\n",
        "\n",
        "# ПЕРЕВІРКА\n",
        "\n",
        "x = rrange(1, 10)\n",
        "y = rrange(10, 1, -1)\n",
        "z = rrange(10, 1, 1)\n",
        "#print(x, y, z)\n",
        "\n",
        "assert x == list(range(1, 10)), 'Failed test for simple range'\n",
        "assert y == list(range(10, 1, -1)), 'Failed test for reverse range'\n",
        "assert z == list(range(10, 1, 1)), 'Failed test for empty range'\n",
        "print('All tests good!')"
      ],
      "execution_count": 21,
      "outputs": [
        {
          "output_type": "stream",
          "name": "stdout",
          "text": [
            "[1, 2, 3, 4, 5, 6, 7, 8, 9]\nAll tests good!\n"
          ]
        }
      ]
    },
    {
      "source": [
        "### **Завдання 3 (2 бали)**\n",
        "\n",
        "Нехай задано структуру даних, що представляє файли на диску, наступного вигляду:\n",
        "- файли представлені у вигляді рядків зі своїм іменем;\n",
        "- папки представлені у вигляді пари `(name, subnodes)`, де `name` — це ім'я папки, а `subnodes` — список з файлів і/або папок, що містяться у ній.\n",
        "\n",
        "Приклад такої структури наведено нижче у змінній `dirs`.\n",
        "\n",
        "Реалізуйте рекурсивну функцію `search(dirs, filename)` для пошуку усіх файлів із іменем `filename` у структурі `dirs`. Ця функція має повертати список, що містить повні шляхи до файлу у заданій структурі. Наприклад, `search(dirs, 'file2')` для наведеної нижче структури має повертати список `['/folder1/folder2/file2']`.\n",
        "\n",
        "_Зауваження 1_: Ви можете, за необхідності, додати до сигнатури функції додаткові параметри, за умови, що вони матимуть значення за замовчуванням. Однак, я стверджую, що таку функцію завжди можна реалізувати використовуючи лише задану кількість параметрів, незалежно від того, чи будете ви використовувати рекурсію з акумулятором чи без.\n",
        "\n",
        "_Зауваження 2_: Згадайте, що рекурсія буває не тільки безпосередньою, але й опосередкованою, коли послідовність функцій викликає одна одну: `f() -> g() -> ... -> f()`\n",
        "\n",
        "_Зауваження 3_: Пам'ятайте, що Ви завжди можете використовувати функції `map` та `reduce`. Крім того, ви можете захотіти використати інші функції з модулів `functools` та `itertools`, наприклад `itertools.chain()`. Завдання, однак, можна виконати і без них (хоч це і не дуже зручно).\n",
        "\n",
        "_Зауваження 4_: На мій смак, версія з акумулятором є більш елегантною, але дещо складнішою в реалізації. Спробуйте реалізувати обидві версії.\n",
        "\n",
		"\n",
		"*Я , коли очікував , що функція не працюватиме , а вона пройшла усі перевірки з першої спроби\n",
        "\n",
		"![](https://media.giphy.com/media/VvXg0yjJQgfEQ/giphy.gif)\n"
      ],
      "cell_type": "markdown",
      "metadata": {
        "id": "8bFJLl9Y4PYz"
      }
    },
    {
      "cell_type": "code",
      "metadata": {
        "id": "p4JxkFju4W0e"
      },
      "source": [
        "dirs = [('folder1',['file1',('folder2',['file2','file3']),('folder3',['file3','file4',('folder4', ['file3'])]),'file5'])]\n",
        "\n",
        "# ВАШ КОД ТУТ\n",
        "def search(d, name):\n",
        "    def find(d2, d1, n, w):\n",
        "        cont = False\n",
        "        for i in d1:\n",
        "            for a in d1[i]:\n",
        "                if type(a) == tuple:\n",
        "                    cont = True\n",
        "                    d2[i + \" \" + a[0]] = a[1]\n",
        "                if type(a) == str:\n",
        "                    if a == n:\n",
        "                        w.append([i, n])\n",
        "        d1.clear()\n",
        "        if cont:\n",
        "            find(d1, d2, n, w)\n",
        "\n",
        "    def f_res(w, r):\n",
        "        if len(w) != 0:\n",
        "            if type(w[0]) == list:\n",
        "                r.append(str(w[0][0]).split())\n",
        "                r[-1].append(w[0][1])\n",
        "                w.pop(0)\n",
        "\n",
        "                will_append = \"\"\n",
        "                for i in range(len(r[0])-1):\n",
        "                    will_append += \"/\" + r[0][i] + \"/\"\n",
        "                will_append += r[0][-1]\n",
        "                w.append(will_append)\n",
        "                r.pop(0)\n",
        "                f_res(w, r)\n",
        "\n",
        "    dict1 = dict({})\n",
        "    dict2 = dict({\"\": d})\n",
        "    way = []\n",
        "    results = []\n",
        "\n",
        "    find(dict1, dict2, name, way)\n",
        "    f_res(way, results)\n",
        "    return way\n",
        "# ПЕРЕВІРКА\n",
        "\n",
        "print(search(dirs, 'file1'))\n",
        "print(search(dirs, 'file2'))\n",
        "print(search(dirs, 'file3'))\n",
        "print(search(dirs, 'file4'))\n",
        "print(search(dirs, 'file5'))\n",
        "print(search(dirs, 'file6'))\n",
        "print(search(dirs, 'folder1'))\n",
        "\n",
        "assert search(dirs, 'file1') == ['/folder1/file1'], 'Failed test for file1'\n",
        "assert search(dirs, 'file2') == ['/folder1//folder2/file2'], 'Failed test for file2'\n",
        "assert search(dirs, 'file3') == ['/folder1//folder2/file3', '/folder1//folder3/file3', '/folder1//folder3//folder4/file3'], 'Failed test for file3'\n",
        "assert search(dirs, 'file4') == ['/folder1//folder3/file4'], 'Failed test for file4'\n",
        "assert search(dirs, 'file5') == ['/folder1/file5'], 'Failed test for file5'\n",
        "assert search(dirs, 'file6') == [], 'Failed test for file6'\n",
        "assert search(dirs, 'folder1') == [], 'Failed test for folder1'\n",
        "print('All tests good!')"
      ],
      "execution_count": 1,
      "outputs": [
        {
          "output_type": "stream",
          "name": "stdout",
          "text": [
            "['/folder1/file1']\n['/folder1//folder2/file2']\n['/folder1//folder2/file3', '/folder1//folder3/file3', '/folder1//folder3//folder4/file3']\n['/folder1//folder3/file4']\n['/folder1/file5']\n[]\n[]\nAll tests good!\n"
          ]
        }
      ]
    },
    {
      "cell_type": "markdown",
      "metadata": {
        "id": "DQ0Q0MRA4an8"
      },
      "source": [
        "### **Завдання 4 (2 бали)**\n",
        "\n",
        "Реалізуйте [функцію Акермана](https://uk.wikipedia.org/wiki/%D0%A4%D1%83%D0%BD%D0%BA%D1%86%D1%96%D1%8F_%D0%90%D0%BA%D0%B5%D1%80%D0%BC%D0%B0%D0%BD%D0%B0), що має такий вигляд:\n",
        "$$ \n",
        "A(m,n) = \\begin{cases} \n",
        "n + 1, & \\quad m = 0; \\\\\n",
        "A(m-1, 1), & \\quad m>0, n=0; \\\\\n",
        "A(m-1, A(m, n-1)), & \\quad m > 0, n > 0.\n",
        "\\end{cases}\n",
        "$$\n",
        "\n",
        "_Зауваження 1_: Функція Акермана, незважаючи на оманливу простоту свого визначення, має велику обчислювальну складність. На власний страх і ризик, можете спробувати обчислити значення $A(4, 3)$. Не пробуйте робити це у цьому середовищі (і на повільних домашніх компьютерах)."
      ]
    },
    {
      "cell_type": "code",
      "metadata": {
        "id": "9flPihHi4i8g"
      },
      "source": [
        "# ВАШ КОД ТУТ\n",
        "import numpy\n",
        "\n",
        "\n",
        "def Akk(m,n):\n",
        "    def func(a, b):\n",
        "        if a == 0:\n",
        "            return b+1\n",
        "        elif b == 0:\n",
        "            return func(a-1,1)\n",
        "        else:\n",
        "            return func(a-1, func(a, b-1))\n",
        "\n",
        "    matrix = [[0 for i in range(n)] for i in range(m)]\n",
        "    for i in range(0,m*n):\n",
        "        matrix[i//n][i%n] = func(i//n,i%n)\n",
        "    return matrix\n",
        "\n",
        "\n",
        "matr = numpy.array(Akk(4,5))\n",
        "print(matr)\n",
        "# ПЕРЕВІРКА\n",
        "\n",
        "test_pairs = list((m, n) for m in range(0,4) for n in range(0,5))\n",
        "results =[[1,  2,  3,  4,   5], \n",
        "          [2,  3,  4,  5,   6], \n",
        "          [3,  5,  7,  9,  11],\n",
        "          [5, 13, 29, 61, 125]]\n",
        "    \n",
        "for i in range(m*n):\n",
        "    assert matr[i//n][i%n] == res[i//n][i%n], f'Failed test for (m, n) pair ({m}, {n}): Akk({m}, {n}) = {res}'\n",
        "print('All tests good!')"
      ],
      "execution_count": 50,
      "outputs": [
        {
          "output_type": "stream",
          "name": "stdout",
          "text": [
            "[[  1   2   3   4   5]\n [  2   3   4   5   6]\n [  3   5   7   9  11]\n [  5  13  29  61 125]]\nAll tests good!\n"
          ]
        }
      ]
    }
  ]
}