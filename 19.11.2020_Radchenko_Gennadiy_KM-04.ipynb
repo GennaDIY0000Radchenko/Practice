{
  "nbformat": 4,
  "nbformat_minor": 0,
  "metadata": {
    "colab": {
      "name": "Practice_7_KM-01_.ipynb",
      "provenance": [],
      "collapsed_sections": []
    },
    "kernelspec": {
      "name": "python3",
      "display_name": "Python 3"
    }
  },
  "cells": [
    {
      "cell_type": "markdown",
      "metadata": {
        "id": "FMqboNwO4rVs"
      },
      "source": [
        "# **Курс \"Програмування на мові Python\"**\n",
        "\n",
        "##### Викладачі:\n",
        "##### Борисенко Павло Борисович\n",
        "##### Щьоголєв Максим Олегович\n"
      ]
    },
    {
      "cell_type": "markdown",
      "metadata": {
        "id": "A2T6MigL5Z06"
      },
      "source": [
        "## **Практичне зайняття №8**\n",
        "\n",
        "### Тема: \"Робота з функціями. Локальні та глобальні змінні\""
      ]
    },
    {
      "cell_type": "markdown",
      "metadata": {
        "id": "cfCdgK2zXm7e"
      },
      "source": [
        "### **Завдання 1 (3 бали)**\n",
        "\n",
        "**Підрахувати визначник матриці, використовуючи правило перестановок.**\n",
        "\n",
        "Функція random_matrix() призначена для створення квадратної матриці випадкових чисел. Її змінювати непотрібно.\n",
        "\n",
        "Приклад використання методу permutations() для створення списку перестановок також подається у комірці з кодом.\n",
        "\n",
        "1) Створити 3 функції: функцію створення списку перестановок, функцію підрахунку добутків та функцію підрахунку загальної суми.\n",
        "\n",
        "2) Кожна функція має супроводжуватись рядком документації, що буде коротко описувати її призначення.\n",
        "\n",
        "3) Розмірність квадратної матриці має вводитись користувачем з клавіатури. Підрахунки виконувати лише в тому разі, якщо користувач введе ціле додатне число.\n",
        "\n",
        "4) Загальний результат повинен підраховуватись за допомогою композиції функцій.\n",
        "\n",
        "За бажання можна перевірити правильність роботи програми за допомогою функції np.linalg.det(a)."
      ]
    },
    {
      "cell_type": "code",
      "metadata": {
        "id": "ifNX2M7LXm7f"
      },
      "source": [
        "import numpy as np\n",
        "import math\n",
        "\n",
        "\n",
        "def print_matrix(m):\n",
        "    for i in range(0, len(m) ** 2):\n",
        "        print(m[i // len(m)][i % len(m)], end='')\n",
        "        print('  ', end='')\n",
        "        if i % len(m) == len(m) - 1:\n",
        "            print('')\n",
        "\n",
        "\n",
        "def random_matrix(dim):\n",
        "    m = np.random.randint(10, size=(dim, dim))\n",
        "    return m\n",
        "\n",
        "\n",
        "def factorial(dim):\n",
        "    r = 1\n",
        "    for i in range(1, dim + 1):\n",
        "        r *= i\n",
        "    return int(r)\n",
        "\n",
        "\n",
        "def f_permutations(dim):\n",
        "    numbers = [int(i) for i in range(1, dim + 1)]\n",
        "    bad_num = [str(i) for i in range(dim + 1, 10)]\n",
        "    bad_num.append(str(0))\n",
        "    first = 0\n",
        "    last = 0\n",
        "    for i in range(0, dim):\n",
        "        first += numbers[i] * (10 ** (dim - i - 1))\n",
        "        last += numbers[i] * (10 ** i)\n",
        "    r = []\n",
        "    for i in range(first, last + 9, 9):\n",
        "        c = 0\n",
        "        i = str(i)\n",
        "        if len(set(i)) == len(i):\n",
        "            for a in range(0, len(i)):\n",
        "                if i[a] in bad_num:\n",
        "                    c = 1\n",
        "            if c == 0:\n",
        "                r.append(str(i))\n",
        "    return r\n",
        "\n",
        "\n",
        "def f_inversion(dim, permutations):\n",
        "    list1 = []\n",
        "    for a in range(0, len(permutations)):\n",
        "        count = 0\n",
        "        for i in range(0, dim - 1):\n",
        "            for b in range(i + 1, dim):\n",
        "                if int(permutations[a][i]) > int(permutations[a][b]):\n",
        "                    count += 1\n",
        "        list1.append(count)\n",
        "    return list1\n",
        "\n",
        "\n",
        "def det(m, dim, permutations, inversion, x_factorial):\n",
        "    r = 0\n",
        "    for i in range(0, x_factorial):\n",
        "        b = 1\n",
        "        for a in range(0, dim):\n",
        "            b *= m[a, int(permutations[i][a]) - 1]\n",
        "        r += ((-1) ** (inversion[i])) * b\n",
        "    return r\n",
        "\n",
        "\n",
        "while True:\n",
        "    while True:\n",
        "        print(\"\")\n",
        "        x = input(\"x = \")\n",
        "        if x == \"\":\n",
        "            print(\"\\n\"*6, \"Бувайте здорові!\", \"\\n\"*5)\n",
        "            break\n",
        "        try:\n",
        "            x = int(x)\n",
        "            if 9 >= x >= 1:\n",
        "                break\n",
        "            else:\n",
        "                print(\"Це число не можна вводити!\")\n",
        "        except ValueError:\n",
        "            print(\"Це не число!\")\n",
        "    if x == \"\":\n",
        "        break\n",
        "    matrix = random_matrix(x)\n",
        "    p = f_permutations(x)\n",
        "    n = f_inversion(x, p)\n",
        "    xf = factorial(x)\n",
        "    result = det(matrix, x, p, n, xf)\n",
        "    print_matrix(matrix)\n",
        "    print(\"det(matrix) = \", result, \" ( Похибка : \", math.fabs(int(np.linalg.det(matrix)) - result), \" )\", sep=\"\")\n"
      ],
      "execution_count": null,
      "outputs": []
    }
  ]
}