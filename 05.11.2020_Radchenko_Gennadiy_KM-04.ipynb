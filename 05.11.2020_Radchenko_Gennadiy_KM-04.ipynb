{
  "nbformat": 4,
  "nbformat_minor": 0,
  "metadata": {
    "colab": {
      "name": "Practice_6.ipynb",
      "provenance": [],
      "collapsed_sections": [
        "LyWSBl0DOxJ8",
        "5qzvb1n_va3D",
        "fRXqCrBOmwAX"
      ]
    },
    "kernelspec": {
      "name": "Python 3.8.6 64-bit",
      "display_name": "Python 3.8.6 64-bit",
      "metadata": {
        "interpreter": {
          "hash": "a2cc6a8d237a313678395e690212fa38d1294c1ae9facd4ac61666eabe9e2857"
        }
      }
    }
  },
  "cells": [
    {
      "cell_type": "markdown",
      "metadata": {
        "id": "FMqboNwO4rVs"
      },
      "source": [
        "# **Курс \"Програмування на мові Python\"**\n",
        "\n",
        "##### Викладачі:\n",
        "##### Борисенко Павло Борисович\n",
        "##### Щьоголєв Максим Олегович\n"
      ]
    },
    {
      "cell_type": "markdown",
      "metadata": {
        "id": "A2T6MigL5Z06"
      },
      "source": [
        "## **Практичне зайняття №6**\n",
        "\n",
        "### Тема: \"Робота з рядками. Глибокі копії об'єктів.\""
      ]
    },
    {
      "source": [
        "### **Завдання 1 (2,5 бали)**\n",
        "\n",
        "Модель tf-pose-estimation (https://github.com/ildoonet/tf-pose-estimation) призначена для розпізнавання 18 ключових точок на тілі людини. Кожна точка розпізнається з певною достовірністю, що вимірюється у відсотках. Модель виводить результати у вигляді рядка:\n",
        "\n",
        "```\n",
        "[BodyPart:0-(0.55, 0.17) score=0.81 BodyPart:1-(0.49, 0.27) score=0.85 BodyPart:2-(0.41, 0.26) score=0.67 \n",
        "BodyPart:3-(0.33, 0.37) score=0.72 BodyPart:4-(0.36, 0.48) score=0.78 BodyPart:5-(0.58, 0.27) score=0.81 \n",
        "BodyPart:6-(0.65, 0.38) score=0.88 BodyPart:7-(0.62, 0.48) score=0.86 BodyPart:8-(0.43, 0.48) score=0.60 \n",
        "BodyPart:9-(0.43, 0.66) score=0.67 BodyPart:10-(0.53, 0.79) score=0.56 BodyPart:11-(0.53, 0.48) score=0.56 \n",
        "BodyPart:12-(0.59, 0.66) score=0.75 BodyPart:13-(0.49, 0.80) score=0.50 BodyPart:14-(0.54, 0.15) score=0.73 \n",
        "BodyPart:15-(0.56, 0.15) score=0.85 BodyPart:16-(0.48, 0.16) score=0.81 BodyPart:17-(0.83, 0.18) score=0.79]\n",
        "```\n",
        "\n",
        "Написати програму, яка створюватиме два списки, points та scores. В першому мають послідовно зберігатися координати точок, в другому - їхні достовірності (scores). В обох списках дані мають зберігатись у форматі float. Для поданого рядка списки матимуть вигляд:\n",
        "\n",
        "```\n",
        "points = [0.55,0.17,0.49,0.27,0.41,0.26,0.33,0.37,0.36,0.48,0.58,0.27,0.65,0.38,0.62,0.48,0.43,0.48,\n",
        "0.43,0.66,0.53,0.79,0.53,0.48,0.59,0.66,0.49,0.80,0.54,0.15,0.56,0.15,0.48,0.16,0.83,0.18]\n",
        "scores = [0.81,0.85,0.67,0.72,0.78,0.81,0.88,0.86,0.60,0.67,0.56,0.56,0.75,0.50,0.73,0.85,0.81,0.79]\n",
        "```\n",
        "\n",
        "1. Кількість розпізнаних точок може коливатись у межах від 0 до 18.\n",
        "\n",
        "2. Під час оцінювання коду враховуватиметься його оптимальність.\n",
        "\n",
        "3. У змінній pose_estimation зберігається тестовий рядок. Для перевірки роботи можуть використовуватись інші рядки такого ж формату."
      ],
      "cell_type": "markdown",
      "metadata": {}
    },
    {
      "cell_type": "code",
      "execution_count": 37,
      "metadata": {},
      "outputs": [
        {
          "output_type": "stream",
          "name": "stdout",
          "text": [
            "points = [0.51,0.28,0.60,0.29,0.62,0.38,0.60,0.30,0.42,0.29,0.38,0.39,0.55,0.49,0.68,0.64,0.59,0.80,0.44,0.50,0.29,0.64,0.37,0.81,0.55,0.18,0.47,0.18]\nscores = [0.82,0.82,0.84,0.10,0.72,0.81,0.53,0.84,0.67,0.51,0.80,0.76,0.81,0.91]"
          ]
        }
      ],
      "source": [
        "pose_estimation = \"[BodyPart:1-(0.51, 0.28) score=0.82 BodyPart:2-(0.60, 0.29) score=0.82 BodyPart:3-(0.62, 0.38) score=0.84 BodyPart:4-(0.60, 0.30) score=0.10 BodyPart:5-(0.42, 0.29) score=0.72 BodyPart:6-(0.38, 0.39) score=0.81 BodyPart:8-(0.55, 0.49) score=0.53 BodyPart:9-(0.68, 0.64) score=0.84 BodyPart:10-(0.59, 0.80) score=0.67 BodyPart:11-(0.44, 0.50) score=0.51 BodyPart:12-(0.29, 0.64) score=0.80 BodyPart:13-(0.37, 0.81) score=0.76 BodyPart:16-(0.55, 0.18) score=0.81 BodyPart:17-(0.47, 0.18) score=0.91]\"\n",
        "pose_estimation = pose_estimation[1:-1]\n",
        "pose_estimation = pose_estimation.split(\"BodyPart:\")[1:]\n",
        "n = len(pose_estimation)\n",
        "lst = []\n",
        "for i in range(0, n-1):\n",
        "    lst.append(pose_estimation[i][2:-1])\n",
        "lst.append(pose_estimation[-1][2:])\n",
        "pose_estimation = []\n",
        "for i in  range(0, n):\n",
        "    if lst[i][0] == \"-\":\n",
        "        pose_estimation.append(lst[i][1:])\n",
        "    else:\n",
        "        pose_estimation.append(lst[i])\n",
        "lst = []\n",
        "for i in range(0, n):\n",
        "    a = 0\n",
        "    while pose_estimation[i][a] != \")\":\n",
        "        a += 1\n",
        "    b = 0\n",
        "    while pose_estimation[i][b] != \"=\":\n",
        "        b += 1\n",
        "    lst.append(pose_estimation[i][1:a]+\",\"+pose_estimation[i][b+1:])\n",
        "pose_estimation = []\n",
        "for i in range(0, n):\n",
        "    a = 0\n",
        "    while lst[i][a] != \" \":\n",
        "        a += 1\n",
        "    pose_estimation.append(lst[i][:a]+lst[i][a+1:])\n",
        "lst = []\n",
        "for i in range(0, n):\n",
        "    lst.append(pose_estimation[i].split(\",\"))\n",
        "points = []\n",
        "scores = []\n",
        "for i in range(0, n):\n",
        "    points.append(lst[i][0])\n",
        "    points.append(lst[i][1])\n",
        "    scores.append(lst[i][2])\n",
        "print(\"points = [\", end=\"\")\n",
        "for i in range(0, 2*n-1):\n",
        "    print(points[i], \",\", sep=\"\", end=\"\")\n",
        "print(points[-1], \"]\", sep=\"\")\n",
        "print(\"scores = [\", end=\"\")\n",
        "for i in range(0, n-1):\n",
        "    print(scores[i], \",\", sep=\"\", end=\"\")\n",
        "print(scores[-1], \"]\", sep=\"\", end=\"\")"
      ]
    },
    {
      "source": [
        "### **Завдання 2 (0,5 бал)**\n",
        "\n",
        "Створіть рядок формату, що дозволить отримати дані з кортежу format_tuple та вивести рядок:\n",
        "\n",
        "*Euler first used **pi** = **3.14** in his **1736** work **Mechanica**, and continued in his widely-read **1748** work Introductio in analysin infinitorum. In hexadecimal system, **pi** is **0x1.91eb851eb851fp+1**.*\n",
        "\n",
        "У рядку формату мають бути 7 заповнювачів (слово pi повторюється двічі, число 3.1415 також використовується двічі). У методі format() мають бути звернення безпосередньо до елементів кортежу.\n",
        "\n",
        "1. Для округлення значень скористайтесь функцією round().\n",
        "\n",
        "2. Щоб конвертувати число типу float у шістнадцяткову форму, скористайтесь методом float.hex().  Щоб отримати потрібне шістнадцяткове представлення, конвертуйте значення pi, округлене до сотих (https://python-reference.readthedocs.io/en/latest/docs/float/hex.html)."
      ],
      "cell_type": "markdown",
      "metadata": {}
    },
    {
      "cell_type": "code",
      "execution_count": 43,
      "metadata": {},
      "outputs": [
        {
          "output_type": "stream",
          "name": "stdout",
          "text": [
            "Euler first used pi = 3.14 in his 1736 work Mechanica, and continued in his widely-read 1748 work Introductio in analysin infinitorum. In hexadecimal system, pi is 0x1.921cac083126fp+1.\n"
          ]
        }
      ],
      "source": [
        "format_tuple = (1736, 3.1415, 'pi', 1748, 'Mechanica')\n",
        "a = \"Euler first used {} = {} in his {} work {}, and continued in his widely-read 1748 work Introductio in analysin infinitorum. In hexadecimal system, {} is {}.\"\n",
        "l = format_tuple\n",
        "print(a.format(l[2],round(l[1],2),l[0],l[4],l[2],float.hex(l[1])))"
      ]
    },
    {
      "cell_type": "code",
      "execution_count": null,
      "metadata": {},
      "outputs": [],
      "source": []
    }
  ]
}