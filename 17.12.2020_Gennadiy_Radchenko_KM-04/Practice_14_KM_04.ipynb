{
  "nbformat": 4,
  "nbformat_minor": 0,
  "metadata": {
    "colab": {
      "name": "Practice_14_KM_01.ipynb",
      "provenance": [],
      "collapsed_sections": []
    },
    "kernelspec": {
      "name": "python3",
      "display_name": "Python 3.8.6 64-bit",
      "metadata": {
        "interpreter": {
          "hash": "a2cc6a8d237a313678395e690212fa38d1294c1ae9facd4ac61666eabe9e2857"
        }
      }
    }
  },
  "cells": [
    {
      "cell_type": "markdown",
      "metadata": {
        "id": "FMqboNwO4rVs"
      },
      "source": [
        "# **Курс \"Програмування на мові Python\"**\n",
        "\n",
        "##### Викладачі:\n",
        "##### Борисенко Павло Борисович\n",
        "##### Щьоголєв Максим Олегович\n"
      ]
    },
    {
      "cell_type": "markdown",
      "metadata": {
        "id": "A2T6MigL5Z06"
      },
      "source": [
        "## **Практичне зайняття №14**\n",
        "\n",
        "### Тема: \"Робота з файлами\""
      ]
    },
    {
      "cell_type": "markdown",
      "metadata": {
        "id": "cfCdgK2zXm7e"
      },
      "source": [
        "### **Завдання 1 (1,5 бали)**\n",
        "\n",
        "У 1939 році друком вийшов роман американського письменика Ернеста Вінсента Райта \"Ґедсбі\". Особливу увагу публіки він здобув через те, що письменник жодного разу не використав у романі літеру \"e\" (роман складається з більше ніж 50,000 слів), яка є найбільш вживаною літерою в англійській мові.\n",
        "\n",
        "Порахуйте кількість входжень кожної літери у текст роману. Виведіть список літер англійського алфавіту, а також інформацію про те, скільки відсотків від усіх літер тексту складає кожна літера алфавіту.\n",
        "\n",
        "Зауваження:\n",
        "\n",
        "1. Програма має ігнорувати будь-які символи, окрім літер.\n",
        "\n",
        "2. Переведіть усі літери у верхній або у нижній регістр.\n",
        "\n",
        "3. Під час виведення відсортуйте літери у порядку зменшення їхнього відсотка. Літера \"e\" має стояти на останньому місці у цьому списку.\n",
        "\n",
        "4. Виведіть перші 5 та останні 5 літер відсортованого списку разом з відсотковими значеннями, що їм відповідають."
      ]
    },
    {
      "source": [
        "alphaville = sorted('qwertyuiopasdfghjklzxcvbnm')\n",
        "len_alph = len(alphaville)\n",
        "file = open('gadsby.txt')\n",
        "number_letters = {}\n",
        "list_number_letter = []\n",
        "\n",
        "for line1 in file:\n",
        "    line = line1.lower()\n",
        "    for elem in line:\n",
        "        if elem in alphaville:\n",
        "            number_letters[elem] = number_letters.get(elem,0)+1\n",
        "\n",
        "for letter in alphaville:\n",
        "    number_letters[letter] = number_letters.get(letter,0)\n",
        "\n",
        "for letter in number_letters.keys():\n",
        "    list_number_letter.append(int(number_letters[letter]))\n",
        "list_number_letter = list(set(list_number_letter))\n",
        "list_number_letter = sorted(list_number_letter, reverse=True)\n",
        "letters_at_all = sum(list_number_letter)\n",
        "\n",
        "print('Place Letter : Percent(%)')\n",
        "for number in range(len_alph):\n",
        "    if 0 <= number <= 4 or len_alph-5 <= number <= len_alph-1:\n",
        "        for letter in alphaville:\n",
        "            if number_letters[letter] == list_number_letter[number]:\n",
        "                print('  '+f'{number+1}' + ' '*(7-len(str(number))) + f'{letter}   : {round((list_number_letter[number]/letters_at_all)*100,4)}')\n",
        "    elif number == 12:\n",
        "        print('  |\\n  V')\n"
      ],
      "cell_type": "code",
      "metadata": {
        "tags": [],
        "id": "u4-fHJJ6U462"
      },
      "execution_count": 1,
      "outputs": [
        {
          "output_type": "stream",
          "name": "stdout",
          "text": [
            "Place Letter : Percent(%)\n  1      a   : 10.9521\n  2      o   : 10.4189\n  3      i   : 8.8254\n  4      n   : 8.5972\n  5      t   : 8.494\n  |\n  V\n  22     j   : 0.2296\n  23     z   : 0.1075\n  24     x   : 0.0792\n  25     q   : 0.0514\n  26     e   : 0.0019\n"
          ]
        }
      ]
    },
    {
      "cell_type": "markdown",
      "metadata": {
        "id": "A34oz70eU463"
      },
      "source": [
        "### **Завдання 2 (1,5 бали)**\n",
        "\n",
        "Створіть CSV-файл, що буде містити від 5 до 10 пісень (творів) вашого улюбленого музиканта. Назва файлу - ім'я музиканта (композитора) або назва гурту.\n",
        "\n",
        "1. Обов'язково додайте до файлу рядок з назвами двох колонок (Song, Year) або (Composition, Year).\n",
        "\n",
        "2. Після запису файлу роздрукуйте назву файлу та усі наявні у файлі рядки (включно із заголовками).\n",
        "\n",
        "3. Для запису та зчитування рядків скористайтесь функціями csv.DictWriter() та csv.DictReader()."
      ]
    },
    {
      "cell_type": "code",
      "execution_count": 2,
      "metadata": {},
      "outputs": [
        {
          "output_type": "stream",
          "name": "stdout",
          "text": [
            "Song                     Year                     \nDancing Queen            1976\nGimme! Gimme! Gimme!     1979\nThe Winners Take It All  1992\nMoney, Money, Money      1976\nMamma Mia                1975\n"
          ]
        }
      ],
      "source": [
        "import csv\n",
        "\n",
        "Songs = ['Dancing Queen', 'Gimme! Gimme! Gimme!', 'The Winners Take It All', 'Money, Money, Money', 'Mamma Mia']\n",
        "Years = ['1976', '1979', '1992', '1976', '1975']\n",
        "indent = 2\n",
        "\n",
        "longest = len(Songs[0])\n",
        "for song in Songs:\n",
        "    if len(song) > longest:\n",
        "        longest = len(song)\n",
        "\n",
        "with open('ABBA.csv', 'w', newline='') as csvfile:\n",
        "    head = ['Song', 'Year']\n",
        "    writer = csv.DictWriter(csvfile, fieldnames=head)\n",
        "    writer.writeheader()\n",
        "    song = iter(Songs)\n",
        "    year = iter(Years)\n",
        "    for _ in Songs:\n",
        "        writer.writerow({'Song': next(song), 'Year': next(year)})\n",
        "\n",
        "with open('ABBA.csv', newline='') as csvfile:\n",
        "    reader = csv.DictReader(csvfile)\n",
        "    for heading in reader.fieldnames:\n",
        "        print(heading, end=' '*(longest-len(heading)+indent))\n",
        "    print()\n",
        "    for row in reader:\n",
        "        print(row['Song']+' '*(longest-len(row['Song'])+indent)+row['Year'])"
      ]
    },
    {
      "cell_type": "markdown",
      "metadata": {
        "id": "Jb-eSBsWU464"
      },
      "source": [
        "### **Завдання 3 (бонусне, 1 бал)**\n",
        "\n",
        "COCO Dataset - набір фотографій та анотацій до них. Його дуже часто використовують для тренування класифікаторів, призначених для розпізнавання об'єктів та визначення ключових точок на зображеннях.\n",
        "\n",
        "Завантажте файли з описом фотографій COCO Dataset за посиланням: http://images.cocodataset.org/annotations/image_info_test2017.zip\n",
        "\n",
        "1. Відкрийте файл image_info_test-dev2017.json. Інформація про фотографії з бази COCO міститься у полі \"images\". Інформація про категорії, на які розділені всі фотографії, міститься у полі \"categories\".\n",
        "\n",
        "2. Визначте кількість фотографій, інформацію про які можна знайти у цьому файлі (кількість елементів, що відповідають ключу \"images\").\n",
        "\n",
        "3. Визначте кількість наявних категорій (кількість елементів, що відповідають ключу \"categories\").\n",
        "\n",
        "4. Виведіть посилання на фотографію 000000000001.jpg (\"coco_url\"), висоту цієї фотографії (\"height\"), ширину (\"width\") та її ідентифікатор (\"id\").\n",
        "\n",
        "5. Опис структури JSON-файлу для набору фотографій COCO можна знайти за посиланням: https://cocodataset.org/#format-data\n",
        "\n",
        "6. Щоб перевірити правильність результатів, у VS Code встановіть розширення JSON та відкрийте файл image_info_test-dev2017.json. Розширення автоматично визначає кількість елементів у кожному полі."
      ]
    },
    {
      "cell_type": "code",
      "metadata": {
        "id": "74C6WKB_U464",
        "tags": []
      },
      "source": [
        "import json\n",
        "\n",
        "file = 'image_info_test-dev2017.json'\n",
        "json_dict = json.load(open(file))\n",
        "\n",
        "photos_number     = len(json_dict['images'])\n",
        "categories_number = len(json_dict['categories'])\n",
        "\n",
        "search_photo = '000000000001.jpg'\n",
        "inf_list = ['coco_url', 'height', 'width', 'id']\n",
        "\n",
        "def inf_photo(file_name):\n",
        "    global inf_list\n",
        "    return_list = []\n",
        "    for i in range(photos_number):\n",
        "        directory = json_dict['images'][i]\n",
        "        if directory['file_name'] == file_name:\n",
        "            for inf in inf_list:\n",
        "                return_list.append(directory[inf])\n",
        "            break\n",
        "    return return_list\n",
        "\n",
        "iformation_list = inf_photo(search_photo)\n",
        "print_list = list(map(lambda el, type_inf: f'{type_inf}'+\" \"*(9-len(type_inf))+f': {el}', iformation_list, inf_list))\n",
        "for i in print_list:\n",
        "    print(i)\n"
      ],
      "execution_count": 3,
      "outputs": [
        {
          "output_type": "stream",
          "name": "stdout",
          "text": [
            "coco_url : http://images.cocodataset.org/test2017/000000000001.jpg\nheight   : 480\nwidth    : 640\nid       : 1\n"
          ]
        }
      ]
    },
    {
      "cell_type": "code",
      "execution_count": null,
      "metadata": {},
      "outputs": [],
      "source": []
    }
  ]
}